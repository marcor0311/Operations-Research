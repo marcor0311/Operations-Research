{
  "nbformat": 4,
  "nbformat_minor": 0,
  "metadata": {
    "colab": {
      "provenance": []
    },
    "kernelspec": {
      "name": "python3",
      "display_name": "Python 3"
    },
    "language_info": {
      "name": "python"
    }
  },
  "cells": [
    {
      "cell_type": "code",
      "execution_count": null,
      "metadata": {
        "id": "5Sj3kR-jaex7",
        "colab": {
          "base_uri": "https://localhost:8080/"
        },
        "outputId": "f38ac0b5-a897-4ac1-bb40-cf7346fb4e75"
      },
      "outputs": [
        {
          "output_type": "stream",
          "name": "stdout",
          "text": [
            "Requirement already satisfied: pulp in /usr/local/lib/python3.10/dist-packages (2.9.0)\n"
          ]
        }
      ],
      "source": [
        "!pip3 install pulp"
      ]
    },
    {
      "cell_type": "markdown",
      "source": [
        "# Explicación Teórica\n",
        "\n",
        "La programación mixta (en particular, la programación lineal entera mixta) se trata de combinar variables enteras y variables continuas.\n",
        "\n",
        "Una variable $x$ entera solo puede tomar valores enteros. Es decir:\n",
        "\\begin{equation}\n",
        "x \\in \\mathbb{Z}\n",
        "\\end{equation}\n",
        "\n",
        "Por otra parte, una variable $y$ continua solo puede tomar valores reales. Es decir:\n",
        "\\begin{equation}\n",
        "y \\in \\mathbb{R}\n",
        "\\end{equation}\n",
        "\n",
        "Las restricciones y la función criterio pueden tomar cualquier forma. Sin embargo, contemplando el hecho de que se está analizando la programación lineal entera mixta, tanto la función criterio como las restricciones tienen que tener una forma lineal. Es decir, algo parecido a:\n",
        "\\begin{equation}\n",
        "c_1x_1 + c_2x_2 + c_3x_3 + \\,\\,...\\,\\, + c_nx_n \\leq \\Gamma\n",
        "\\end{equation}\n",
        "Donde, $x_i$ son las variables enteras y continuas y $c_i$/$\\Gamma$ son constantes tal que:\n",
        "\\begin{equation}\n",
        "c_i, \\Gamma \\in \\mathbb{R}\n",
        "\\end{equation}"
      ],
      "metadata": {
        "id": "dQV7B6llnx5r"
      }
    },
    {
      "cell_type": "markdown",
      "source": [
        "# Contexto del Problema\n",
        "\n",
        "Se tiene dos tipos de alcohol y dos fábricas\n",
        "\n",
        "El litro de alcohol 1 (Vodka) genera una ganancia de 10$\n",
        "\n",
        "El litro de alcohol 2 (Whiskey) genera una ganancia de 15$\n",
        "\n",
        "La fábrica 1 puede fabricar 0,02 litros por hora del alcohol 1 y 0.025 litros por hora del alcohol 2, teniendo 500 horas disponibles\n",
        "\n",
        "La fábrica 2 puede fabricar 0,025 litros por hora del alcohol 1 y 0.04 litros por hora del alcohol 2, teniendo 700 horas disponibles\n",
        "\n",
        "# Variables\n",
        "\n",
        "x = Litros del alcohol 1 a producir\n",
        "\n",
        "y = Litros del alcohol 2 a producir\n",
        "\n",
        "t = Variable binaria auxiliar\n",
        "\n",
        "# Función Objetivo\n",
        "\n",
        "$Max(Z) = 10x+15y $\n",
        "\n",
        "# Restriciones\n",
        "\n",
        "$Fábrica 1: 0,02x + 0,025y <= 500 + Mt$\n",
        "\n",
        "$Fábrica 2:0,025x + 0,04y <= 700 + M(1-t)$\n",
        "\n",
        "Con M número entero positivo grande\n",
        "\n"
      ],
      "metadata": {
        "id": "DpSshK99lCDf"
      }
    },
    {
      "cell_type": "code",
      "source": [
        "from pulp import *\n",
        "problema = LpProblem(name=\"MILP-dependent-t\", sense=LpMaximize) #modelo del problema MILP para programacion lineal entera mixta y se busca maximizar\n",
        "x = LpVariable(name=\"x\", lowBound=0, cat=\"Continuous\") # vodka\n",
        "y = LpVariable(name=\"y\", lowBound=0, cat=\"Continuous\") # whiskey\n",
        "t = LpVariable(name=\"t\", cat=\"Binary\")  # Variable binaria\n",
        "M = 9999 # m con valor grande\n",
        "\n",
        "\n",
        "problema += 10 * x + 15 * y, \"Objective\" # la funcion objetivo Z a maximizar\n",
        "\n",
        "\n",
        "problema += (0.02 * x + 0.025 * y <= 500 + M * t), \"Constraint_1\" #primera restriccion\n",
        "problema += (0.025 * x + 0.04 * y <= 700 + M * (1 - t)), \"Constraint_2\" #segunda restriccion\n",
        "\n",
        "problema.solve() # se resuelve\n",
        "\n",
        "# Mostrar resultados\n",
        "print(\"Estado del problema: \", problema.status) # el estado de resolucion 1 si si se resuelve 0 si no\n",
        "print(\"Valor óptimo de z: \", problema.objective.value())\n",
        "print(\"Valor óptimo de x: \", x.value())\n",
        "print(\"Valor óptimo de y: \", y.value())\n",
        "print(\"Valor óptimo de t: \", t.value())\n"
      ],
      "metadata": {
        "colab": {
          "base_uri": "https://localhost:8080/"
        },
        "id": "-QDMUquxdc_g",
        "outputId": "91a42e18-eb85-47f9-af28-b306cc1e27d8"
      },
      "execution_count": null,
      "outputs": [
        {
          "output_type": "stream",
          "name": "stdout",
          "text": [
            "Estado del problema:  1\n",
            "Valor óptimo de z:  300000.0\n",
            "Valor óptimo de x:  0.0\n",
            "Valor óptimo de y:  20000.0\n",
            "Valor óptimo de t:  0.0\n"
          ]
        }
      ]
    },
    {
      "cell_type": "code",
      "source": [],
      "metadata": {
        "id": "8aMFwGXphE5h",
        "outputId": "b4b278e1-f059-41b3-b692-d105a222a5e7",
        "colab": {
          "base_uri": "https://localhost:8080/"
        }
      },
      "execution_count": null,
      "outputs": [
        {
          "output_type": "stream",
          "name": "stdout",
          "text": [
            "[]\n"
          ]
        }
      ]
    }
  ]
}